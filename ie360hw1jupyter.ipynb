{
  "metadata": {
    "kernelspec": {
      "name": "python",
      "display_name": "Python (Pyodide)",
      "language": "python"
    },
    "language_info": {
      "codemirror_mode": {
        "name": "python",
        "version": 3
      },
      "file_extension": ".py",
      "mimetype": "text/x-python",
      "name": "python",
      "nbconvert_exporter": "python",
      "pygments_lexer": "ipython3",
      "version": "3.8"
    }
  },
  "nbformat_minor": 5,
  "nbformat": 4,
  "cells": [
    {
      "id": "85f64dfb-5b95-459b-88c2-7f824fa962e6",
      "cell_type": "code",
      "source": "# Model 1 Stationary Code\n\nimport pandas as pd\nimport numpy as np\nfrom statsmodels.graphics.tsaplots import plot_acf, plot_pacf\nfrom statsmodels.tsa.stattools import adfuller\nimport matplotlib.pyplot as plt\n\n# Read data\nall_data = pd.read_excel(\"all data.xlsx\")\nall_data[\"Hafta\"] = pd.to_datetime(all_data[\"Hafta\"], format='%d-%m-%Y')\n\n# Separate features and target\nbayram = all_data[\"bayram\"]\nramazan = all_data[\"ramazan\"]\nkurban = all_data[\"kurban\"]\nt = all_data[\"t\"]\ny = all_data[\"Clothing\"]\n\n\nprint(\"Correlation between Bayram Search and Ramazan Search: \" + str(bayram.corr(ramazan)))\nprint(\"Correlation between Bayram Search and Kurban Search: \" + str(bayram.corr(kurban)))\nprint(\"Correlation between Ramazan Search and Kurban Search: \" + str(ramazan.corr(kurban)))\n\n# Check stationary\nprint(\"Initial p-value for stationary test: \" + str(adfuller(y)[1]))\n\n# Plot acf and pacf plots\nplot_acf(y)\nplt.show()\n\nplot_pacf(y)\nplt.show()\n\n# Differencing\ny_diff = y.diff().dropna()\n\n# Check stationary\nprint(\"First Difference p-value for stationary test: \" + str(adfuller(y_diff)[1]))\n\n# Plot acf and pacf plots\nplot_acf(y_diff)\nplt.show()\n\nplot_pacf(y_diff)\nplt.show()\n\nplt.plot(y_diff.index, y_diff)\nplt.show()\n\n\ny_diff_log = y.apply(lambda x: np.log(x)).diff().dropna()\n\nplt.plot(y_diff.index, y_diff_log)\nplt.show()\n\n# Check stationary\nprint(\"First Difference of log transform p-value for stationary test: \" + str(adfuller(y_diff_log)[1]))\n\n# Plot acf and pacf plots\nplot_acf(y_diff_log)\nplt.show()\n\nplot_pacf(y_diff_log)\nplt.show()",
      "metadata": {
        "trusted": true
      },
      "outputs": [],
      "execution_count": null
    },
    {
      "id": "21a14c2f-7400-4f9e-bb89-c118c630dfaa",
      "cell_type": "code",
      "source": "# Model 1 Bayram Code\n\nimport pandas as pd\nimport numpy as np\nimport statsmodels.api as sm\nfrom sklearn.metrics import mean_absolute_percentage_error\nimport matplotlib.pyplot as plt\n\n# Read data\nall_data = pd.read_excel(\"all data.xlsx\")\nall_data[\"Hafta\"] = pd.to_datetime(all_data[\"Hafta\"], format='%d-%m-%Y')\n\n# Separate features and target\nX = all_data.drop(columns=[\"Hafta\", \"Clothing\", \"ramazan\", \"kurban\"])\nX = sm.add_constant(X)\nt = all_data[\"t\"]\ny = pd.DataFrame(all_data[\"Clothing\"])\ny = y.apply(lambda x: np.log(x))\n\n# Set train and test data\ny_train = y.iloc[:].copy()\ny_test = y.iloc[:].copy()\nX_train = X.iloc[:].copy()\nX_test = X.iloc[:].copy()\nt_train = t.iloc[:].copy()\nt_test = t.iloc[:].copy()\n\n# Linear Model\nmodel = sm.OLS(y_train, X_train)\nresults = model.fit()\nprint(results.summary())\n\n# Forecast of the model\nforecast = results.predict(X_test)\nforecast = pd.DataFrame(forecast).apply(lambda x: np.exp(x))\nmodel_residuals = y_test.apply(lambda x: np.exp(x)).values - forecast.values\n\n# Plot residuals\nplt.plot(model_residuals, label='Residual Analysis')\nplt.legend()\nplt.show()\n\n# Calculate MAPE\nmape = mean_absolute_percentage_error(y_test.apply(lambda x: np.exp(x)), forecast)\nprint(\"MAPE:\", mape)\n\n# Plot actual vs forecast for both cases\nplt.plot(y.index, y.apply(lambda x: np.exp(x)), label='Actual')\nplt.plot(y.index, forecast, label='Forecast')\nplt.legend()\nplt.show()\n",
      "metadata": {
        "trusted": true
      },
      "outputs": [],
      "execution_count": null
    },
    {
      "id": "44b20e04-25c6-4366-9233-bc24bf233966",
      "cell_type": "code",
      "source": "# Model 1 Ramazan - Kurban Code\n\nimport pandas as pd\nimport numpy as np\nfrom sklearn.linear_model import LinearRegression\nimport statsmodels.api as sm\nfrom sklearn.metrics import mean_absolute_percentage_error\nimport matplotlib.pyplot as plt\n\n# Read data\nall_data = pd.read_excel(\"all data.xlsx\")\nall_data[\"Hafta\"] = pd.to_datetime(all_data[\"Hafta\"], format='%d-%m-%Y')\n\n# Separate features and target\nX = all_data.drop(columns=[\"Hafta\", \"Clothing\", \"bayram\"])\nX = sm.add_constant(X)\nt = all_data[\"t\"]\ny = pd.DataFrame(all_data[\"Clothing\"])\ny = y.apply(lambda x: np.log(x))\n\n# Set train and test data\ny_train = y.iloc[:].copy()\ny_test = y.iloc[:].copy()\nX_train = X.iloc[:].copy()\nX_test = X.iloc[:].copy()\nt_train = t.iloc[:].copy()\nt_test = t.iloc[:].copy()\n\n# Linear model\nmodel = sm.OLS(y_train, X_train)\nresults = model.fit()\nprint(results.summary())\n\n# Forecast of the model\nforecast = results.predict(X_test)\nforecast = pd.DataFrame(forecast).apply(lambda x: np.exp(x))\nmodel_residuals = y_test.apply(lambda x: np.exp(x)).values - forecast.values\n\n# Plot residuals\nplt.plot(model_residuals, label='Residual Analysis')\nplt.legend()\nplt.show()\n\n# Calculate MAPE\nmape = mean_absolute_percentage_error(y_test.apply(lambda x: np.exp(x)), forecast)\nprint(\"MAPE:\", mape)\n\n# Plot actual vs forecast for both cases\nplt.plot(y.index, y.apply(lambda x: np.exp(x)), label='Actual')\nplt.plot(y.index, forecast, label='Forecast')\nplt.legend()\nplt.show()\n",
      "metadata": {
        "trusted": true
      },
      "outputs": [],
      "execution_count": null
    },
    {
      "id": "6dc9276b-6999-470c-97fa-7a636234ee6a",
      "cell_type": "code",
      "source": "# Model 2 Stationary Code\n\nimport pandas as pd\nimport numpy as np\nfrom statsmodels.graphics.tsaplots import plot_acf, plot_pacf\nfrom statsmodels.tsa.stattools import adfuller\nimport matplotlib.pyplot as plt\n\n# Read data\nall_data = pd.read_excel(\"all data.xlsx\")\n\n# Separate features and target\nt = all_data[\"t\"]\ny = all_data[\"konut\"]\n\n# Check stationary\nprint(\"Initial p-value for stationary test: \" + str(adfuller(y)[1]))\n\n# Plot acf and pacf plots\nplot_acf(y)\nplt.show()\n\nplot_pacf(y)\nplt.show()\n",
      "metadata": {
        "trusted": true
      },
      "outputs": [],
      "execution_count": null
    },
    {
      "id": "7d51315a-0a6e-4467-ad46-1d7bcc8729d5",
      "cell_type": "code",
      "source": "# Model 2 No Constant Code\n\nimport pandas as pd\nimport numpy as np\nimport statsmodels.api as sm\nfrom sklearn.metrics import mean_absolute_percentage_error\nimport matplotlib.pyplot as plt\n\n# Read data\nall_data = pd.read_excel(\"all data.xlsx\")\n\n# Separate features and target\nX = all_data.drop(columns=[\"Date\", \"konut\"])\nt = all_data[\"t\"]\ny = pd.DataFrame(all_data[\"konut\"])\n\n# Set train and test data\ny_train = y.iloc[:].copy()\ny_test = y.iloc[:].copy()\nX_train = X.iloc[:].copy()\nX_test = X.iloc[:].copy()\nt_train = t.iloc[:].copy()\nt_test = t.iloc[:].copy()\n\n# linear model\nmodel = sm.OLS(y_train, X_train)\nresults = model.fit()\nprint(results.summary())\n\n# Forecast \nforecast = results.predict(X_test)\nforecast = pd.DataFrame(forecast)\nmodel_residuals = y_test.values - forecast.values\n\n# Plot residuals\nplt.plot(model_residuals, label='Residual Analysis')\nplt.legend()\nplt.show()\n\n# Calculate MAPE\nmape = mean_absolute_percentage_error(y_test, forecast)\nprint(\"MAPE of the model:\", mape)\n\n# Plot actual vs forecast for both cases\nplt.plot(y.index, y, label='Actual')\nplt.plot(y.index, forecast, label='Forecast')\nplt.legend()\nplt.show()",
      "metadata": {
        "trusted": true
      },
      "outputs": [],
      "execution_count": null
    },
    {
      "id": "e5d3a5b6-733c-4986-873b-6f1e63051619",
      "cell_type": "code",
      "source": "# Model 2 Constant Code\n\nimport pandas as pd\nimport numpy as np\nimport statsmodels.api as sm\nfrom sklearn.metrics import mean_absolute_percentage_error\nimport matplotlib.pyplot as plt\n\n# Read data\nall_data = pd.read_excel(\"all data.xlsx\")\n\n# Separate features and target\nX = all_data.drop(columns=[\"Date\", \"konut\", \"m1\"])\nX = sm.add_constant(X)\nt = all_data[\"t\"]\ny = pd.DataFrame(all_data[\"konut\"])\n\n# Set train and test data\ny_train = y.iloc[:].copy()\ny_test = y.iloc[:].copy()\nX_train = X.iloc[:].copy()\nX_test = X.iloc[:].copy()\nt_train = t.iloc[:].copy()\nt_test = t.iloc[:].copy()\n\n# linear model\nmodel = sm.OLS(y_train, X_train)\nresults = model.fit()\nprint(results.summary())\n\n# Forecast \nforecast = results.predict(X_test)\nforecast = pd.DataFrame(forecast)\nmodel_residuals = y_test.values - forecast.values\n\n# Plot residuals\nplt.plot(model_residuals, label='Residual Analysis')\nplt.legend()\nplt.show()\n\n# Calculate MAPE\nmape = mean_absolute_percentage_error(y_test, forecast)\nprint(\"MAPE of the model:\", mape)\n\n# Plot actual vs forecast for both cases\nplt.plot(y.index, y, label='Actual')\nplt.plot(y.index, forecast, label='Forecast')\nplt.legend()\nplt.show()",
      "metadata": {
        "trusted": true
      },
      "outputs": [],
      "execution_count": null
    },
    {
      "id": "1e7c125a-b8af-4565-9723-311cfc53049d",
      "cell_type": "code",
      "source": "# Model 3 Stationary Code\n\nimport pandas as pd\nimport numpy as np\nfrom statsmodels.graphics.tsaplots import plot_acf, plot_pacf\nfrom statsmodels.tsa.stattools import adfuller\nimport matplotlib.pyplot as plt\n\n# Read data\nall_data = pd.read_excel(\"all data.xlsx\")\n\n# Separate features and target\nt = all_data[\"t\"]\ny = all_data[\"eur\"]\n\n# Check stationary\nprint(\"Initial p-value for stationary test: \" + str(adfuller(y)[1]))\n\n# Plot acf and pacf plots\nplot_acf(y)\nplt.show()\n\nplot_pacf(y)\nplt.show()\n\n# Differencing\ny_diff = y.diff().dropna()\n\n# Check stationary\nprint(\"First Difference p-value for stationary test: \" + str(adfuller(y_diff)[1]))\n\n# Plot acf and pacf plots\nplot_acf(y_diff)\nplt.show()\n\nplot_pacf(y_diff)\nplt.show()\n\nplt.plot(y_diff.index, y_diff)\nplt.show()",
      "metadata": {
        "trusted": true
      },
      "outputs": [],
      "execution_count": null
    },
    {
      "id": "4258d4fb-f0c5-4cfa-941f-00acd4195a48",
      "cell_type": "code",
      "source": "# Model 3 Linear Code\n\nimport pandas as pd\nimport numpy as np\nimport statsmodels.api as sm\nfrom sklearn.metrics import mean_absolute_percentage_error\nimport matplotlib.pyplot as plt\n\n# Read data\nall_data = pd.read_excel(\"all data.xlsx\")\n\n# Separate features and target\nX = all_data.drop(columns=[\"Date\", \"eur\"])\nt = all_data[\"t\"]\ny = pd.DataFrame(all_data[\"eur\"])\n\n# Set train and test data\ny_train = y.iloc[:].copy()\ny_test = y.iloc[:].copy()\nX_train = X.iloc[:].copy()\nX_test = X.iloc[:].copy()\nt_train = t.iloc[:].copy()\nt_test = t.iloc[:].copy()\n\n# linear model\nmodel = sm.OLS(y_train, X_train)\nresults = model.fit()\nprint(results.summary())\n\n# Forecast \nforecast = results.predict(X_test)\nforecast = pd.DataFrame(forecast)\nmodel_residuals = y_test.values - forecast.values\n\n# Plot residuals\nplt.plot(model_residuals, label='Residual Analysis')\nplt.legend()\nplt.show()\n\n# Calculate MAPE\nmape = mean_absolute_percentage_error(y_test, forecast)\nprint(\"MAPE of the model:\", mape)\n\n# Plot actual vs forecast for both cases\nplt.plot(y.index, y, label='Actual')\nplt.plot(y.index, forecast, label='Forecast')\nplt.legend()\nplt.show()",
      "metadata": {
        "trusted": true
      },
      "outputs": [],
      "execution_count": null
    },
    {
      "id": "00a42ebf-390b-4dab-a386-fb9ab0e3a0df",
      "cell_type": "code",
      "source": "# Model 3 Log Transform Code\n\nimport pandas as pd\nimport numpy as np\nimport statsmodels.api as sm\nfrom sklearn.metrics import mean_absolute_percentage_error\nimport matplotlib.pyplot as plt\n\n# Read data\nall_data = pd.read_excel(\"all data.xlsx\")\n# Separate features and target\nX = all_data.drop(columns=[\"Date\", \"eur\"])\nX = sm.add_constant(X)\nt = all_data[\"t\"]\ny = pd.DataFrame(all_data[\"eur\"])\ny = y.apply(lambda x: np.log(x))\n\n# Set train and test data\ny_train = y.iloc[:].copy()\ny_test = y.iloc[:].copy()\nX_train = X.iloc[:].copy()\nX_test = X.iloc[:].copy()\nt_train = t.iloc[:].copy()\nt_test = t.iloc[:].copy()\n\n# Linear Model\nmodel = sm.OLS(y_train, X_train)\nresults = model.fit()\nprint(results.summary())\n\n# Forecast of the model\nforecast = results.predict(X_test)\nforecast = pd.DataFrame(forecast).apply(lambda x: np.exp(x))\nmodel_residuals = y_test.apply(lambda x: np.exp(x)).values - forecast.values\n\n# Plot residuals\nplt.plot(model_residuals, label='Residual Analysis')\nplt.legend()\nplt.show()\n\n# Calculate MAPE\nmape = mean_absolute_percentage_error(y_test.apply(lambda x: np.exp(x)), forecast)\nprint(\"MAPE:\", mape)\n\n# Plot actual vs forecast for both cases\nplt.plot(y.index, y.apply(lambda x: np.exp(x)), label='Actual')\nplt.plot(y.index, forecast, label='Forecast')\nplt.legend()\nplt.show()",
      "metadata": {
        "trusted": true
      },
      "outputs": [],
      "execution_count": null
    }
  ]
}